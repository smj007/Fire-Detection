{
  "nbformat": 4,
  "nbformat_minor": 0,
  "metadata": {
    "colab": {
      "name": "CNN-Fire Detection.ipynb",
      "provenance": []
    },
    "kernelspec": {
      "name": "python3",
      "display_name": "Python 3"
    },
    "accelerator": "GPU"
  },
  "cells": [
    {
      "cell_type": "code",
      "metadata": {
        "id": "3I0Hhmrjd7t3",
        "colab_type": "code",
        "colab": {
          "base_uri": "https://localhost:8080/",
          "height": 34
        },
        "outputId": "e1d7178e-5b4d-4a0b-e03a-73d6cba89f8b"
      },
      "source": [
        "import tensorflow as tf \n",
        "import keras.preprocessing\n",
        "from keras.preprocessing import image\n",
        "from keras.preprocessing.image import ImageDataGenerator\n",
        "\n",
        "from google.colab import drive"
      ],
      "execution_count": 1,
      "outputs": [
        {
          "output_type": "stream",
          "text": [
            "Using TensorFlow backend.\n"
          ],
          "name": "stderr"
        }
      ]
    },
    {
      "cell_type": "code",
      "metadata": {
        "id": "6ugLLl68rBnM",
        "colab_type": "code",
        "colab": {
          "base_uri": "https://localhost:8080/",
          "height": 122
        },
        "outputId": "786c85a6-8bd9-4ccf-8396-2e694fc5c4e6"
      },
      "source": [
        "drive.mount('/content/drive')"
      ],
      "execution_count": 2,
      "outputs": [
        {
          "output_type": "stream",
          "text": [
            "Go to this URL in a browser: https://accounts.google.com/o/oauth2/auth?client_id=947318989803-6bn6qk8qdgf4n4g3pfee6491hc0brc4i.apps.googleusercontent.com&redirect_uri=urn%3aietf%3awg%3aoauth%3a2.0%3aoob&response_type=code&scope=email%20https%3a%2f%2fwww.googleapis.com%2fauth%2fdocs.test%20https%3a%2f%2fwww.googleapis.com%2fauth%2fdrive%20https%3a%2f%2fwww.googleapis.com%2fauth%2fdrive.photos.readonly%20https%3a%2f%2fwww.googleapis.com%2fauth%2fpeopleapi.readonly\n",
            "\n",
            "Enter your authorization code:\n",
            "··········\n",
            "Mounted at /content/drive\n"
          ],
          "name": "stdout"
        }
      ]
    },
    {
      "cell_type": "code",
      "metadata": {
        "id": "KhP-p0oWrT3t",
        "colab_type": "code",
        "colab": {}
      },
      "source": [
        "import os\n",
        "os.chdir('/content/drive/My Drive/FireDataset/Datasets 1-2')"
      ],
      "execution_count": 3,
      "outputs": []
    },
    {
      "cell_type": "code",
      "metadata": {
        "id": "JchyNzSfre4x",
        "colab_type": "code",
        "colab": {}
      },
      "source": [
        "TRAIN_DIR = 'Training'\n",
        "VALIDATION_DIR = 'Validation'"
      ],
      "execution_count": 4,
      "outputs": []
    },
    {
      "cell_type": "code",
      "metadata": {
        "id": "713uQoKTqtkk",
        "colab_type": "code",
        "colab": {}
      },
      "source": [
        "train_datagen = ImageDataGenerator(rescale = 1./255,\n",
        "                                   zoom_range = 0.2,\n",
        "                                   horizontal_flip = True,\n",
        "                                   fill_mode = 'nearest')\n",
        "\n",
        "validation_datagen = ImageDataGenerator(rescale = 1./255)"
      ],
      "execution_count": 5,
      "outputs": []
    },
    {
      "cell_type": "code",
      "metadata": {
        "id": "r-RTRVzcjvyl",
        "colab_type": "code",
        "colab": {
          "base_uri": "https://localhost:8080/",
          "height": 51
        },
        "outputId": "12c09d61-b9b5-411d-f388-a5f28a2f959b"
      },
      "source": [
        "train_generator = train_datagen.flow_from_directory(\n",
        "    TRAIN_DIR,\n",
        "    target_size = (224, 224),\n",
        "    class_mode = 'categorical',\n",
        "    batch_size = 64\n",
        ")\n",
        "\n",
        "\n",
        "validation_generator = validation_datagen.flow_from_directory(\n",
        "    VALIDATION_DIR,\n",
        "    target_size = (224, 224),\n",
        "    class_mode = 'categorical',\n",
        "    batch_size = 16\n",
        ")"
      ],
      "execution_count": 6,
      "outputs": [
        {
          "output_type": "stream",
          "text": [
            "Found 980 images belonging to 2 classes.\n",
            "Found 239 images belonging to 2 classes.\n"
          ],
          "name": "stdout"
        }
      ]
    },
    {
      "cell_type": "code",
      "metadata": {
        "id": "jTY7T5CNkCIc",
        "colab_type": "code",
        "colab": {
          "base_uri": "https://localhost:8080/",
          "height": 595
        },
        "outputId": "2079f5db-a63b-41e3-dfd3-b1447f26cb2c"
      },
      "source": [
        "from tensorflow.keras.optimizers import Adam\n",
        "\n",
        "model = tf.keras.models.Sequential([\n",
        "                                    tf.keras.layers.Conv2D(128, (11, 11), strides = (4, 4), activation = 'relu', input_shape = (224, 224, 3)),\n",
        "                                    tf.keras.layers.MaxPooling2D(pool_size=(3, 3), strides = (2, 2)),\n",
        "                                    tf.keras.layers.Conv2D(256, (5, 5), activation = 'relu'),\n",
        "                                    tf.keras.layers.MaxPooling2D(pool_size = (3, 3), strides = (2, 2)),\n",
        "                                    tf.keras.layers.Conv2D(384, (5,5), activation='relu'),\n",
        "                                    tf.keras.layers.MaxPooling2D(pool_size = (3,3), strides=(2,2)),\n",
        "                                    tf.keras.layers.Flatten(),\n",
        "                                    tf.keras.layers.Dropout(0.2),\n",
        "                                    tf.keras.layers.Dense(2048, activation = 'relu'),\n",
        "                                    tf.keras.layers.Dropout(0.25),\n",
        "                                    tf.keras.layers.Dense(1024, activation = 'relu'),\n",
        "                                    tf.keras.layers.Dropout(0.2),\n",
        "                                    tf.keras.layers.Dense(2, activation='softmax')\n",
        "])\n",
        "\n",
        "model.compile(loss = 'categorical_crossentropy',\n",
        "              optimizer = Adam(lr = 0.0001),\n",
        "              metrics = ['acc'])\n",
        "\n",
        "model.summary()"
      ],
      "execution_count": 7,
      "outputs": [
        {
          "output_type": "stream",
          "text": [
            "Model: \"sequential\"\n",
            "_________________________________________________________________\n",
            "Layer (type)                 Output Shape              Param #   \n",
            "=================================================================\n",
            "conv2d (Conv2D)              (None, 54, 54, 128)       46592     \n",
            "_________________________________________________________________\n",
            "max_pooling2d (MaxPooling2D) (None, 26, 26, 128)       0         \n",
            "_________________________________________________________________\n",
            "conv2d_1 (Conv2D)            (None, 22, 22, 256)       819456    \n",
            "_________________________________________________________________\n",
            "max_pooling2d_1 (MaxPooling2 (None, 10, 10, 256)       0         \n",
            "_________________________________________________________________\n",
            "conv2d_2 (Conv2D)            (None, 6, 6, 384)         2457984   \n",
            "_________________________________________________________________\n",
            "max_pooling2d_2 (MaxPooling2 (None, 2, 2, 384)         0         \n",
            "_________________________________________________________________\n",
            "flatten (Flatten)            (None, 1536)              0         \n",
            "_________________________________________________________________\n",
            "dropout (Dropout)            (None, 1536)              0         \n",
            "_________________________________________________________________\n",
            "dense (Dense)                (None, 2048)              3147776   \n",
            "_________________________________________________________________\n",
            "dropout_1 (Dropout)          (None, 2048)              0         \n",
            "_________________________________________________________________\n",
            "dense_1 (Dense)              (None, 1024)              2098176   \n",
            "_________________________________________________________________\n",
            "dropout_2 (Dropout)          (None, 1024)              0         \n",
            "_________________________________________________________________\n",
            "dense_2 (Dense)              (None, 2)                 2050      \n",
            "=================================================================\n",
            "Total params: 8,572,034\n",
            "Trainable params: 8,572,034\n",
            "Non-trainable params: 0\n",
            "_________________________________________________________________\n"
          ],
          "name": "stdout"
        }
      ]
    },
    {
      "cell_type": "code",
      "metadata": {
        "id": "XAtMSNyLvtUi",
        "colab_type": "code",
        "colab": {
          "base_uri": "https://localhost:8080/",
          "height": 1000
        },
        "outputId": "86a260c6-e8f9-489c-b126-994b2f380c97"
      },
      "source": [
        "history = model.fit(\n",
        "    train_generator,\n",
        "    steps_per_epoch = 15,\n",
        "    epochs = 50,\n",
        "    validation_data = validation_generator,\n",
        "    validation_steps = 15\n",
        ")"
      ],
      "execution_count": 8,
      "outputs": [
        {
          "output_type": "stream",
          "text": [
            "Epoch 1/50\n",
            "15/15 [==============================] - 445s 30s/step - loss: 0.5095 - acc: 0.6900 - val_loss: 0.4076 - val_acc: 0.8452\n",
            "Epoch 2/50\n",
            "15/15 [==============================] - 34s 2s/step - loss: 0.3576 - acc: 0.8559 - val_loss: 0.3148 - val_acc: 0.8745\n",
            "Epoch 3/50\n",
            "15/15 [==============================] - 33s 2s/step - loss: 0.2885 - acc: 0.8886 - val_loss: 0.4175 - val_acc: 0.8410\n",
            "Epoch 4/50\n",
            "15/15 [==============================] - 36s 2s/step - loss: 0.3094 - acc: 0.8854 - val_loss: 0.2510 - val_acc: 0.9289\n",
            "Epoch 5/50\n",
            "15/15 [==============================] - 35s 2s/step - loss: 0.2561 - acc: 0.9039 - val_loss: 0.2277 - val_acc: 0.9289\n",
            "Epoch 6/50\n",
            "15/15 [==============================] - 35s 2s/step - loss: 0.2034 - acc: 0.9323 - val_loss: 0.2084 - val_acc: 0.9414\n",
            "Epoch 7/50\n",
            "15/15 [==============================] - 35s 2s/step - loss: 0.1947 - acc: 0.9225 - val_loss: 0.2550 - val_acc: 0.9331\n",
            "Epoch 8/50\n",
            "15/15 [==============================] - 35s 2s/step - loss: 0.2229 - acc: 0.9214 - val_loss: 0.2151 - val_acc: 0.9247\n",
            "Epoch 9/50\n",
            "15/15 [==============================] - 35s 2s/step - loss: 0.1855 - acc: 0.9334 - val_loss: 0.2161 - val_acc: 0.9331\n",
            "Epoch 10/50\n",
            "15/15 [==============================] - 35s 2s/step - loss: 0.1646 - acc: 0.9421 - val_loss: 0.2290 - val_acc: 0.9414\n",
            "Epoch 11/50\n",
            "15/15 [==============================] - 35s 2s/step - loss: 0.1826 - acc: 0.9301 - val_loss: 0.2461 - val_acc: 0.9331\n",
            "Epoch 12/50\n",
            "15/15 [==============================] - 35s 2s/step - loss: 0.1634 - acc: 0.9378 - val_loss: 0.1710 - val_acc: 0.9414\n",
            "Epoch 13/50\n",
            "15/15 [==============================] - 36s 2s/step - loss: 0.1430 - acc: 0.9465 - val_loss: 0.2622 - val_acc: 0.9247\n",
            "Epoch 14/50\n",
            "15/15 [==============================] - 36s 2s/step - loss: 0.1425 - acc: 0.9443 - val_loss: 0.2127 - val_acc: 0.9289\n",
            "Epoch 15/50\n",
            "15/15 [==============================] - 35s 2s/step - loss: 0.1470 - acc: 0.9432 - val_loss: 0.2752 - val_acc: 0.9247\n",
            "Epoch 16/50\n",
            "15/15 [==============================] - 35s 2s/step - loss: 0.1282 - acc: 0.9541 - val_loss: 0.2027 - val_acc: 0.9247\n",
            "Epoch 17/50\n",
            "15/15 [==============================] - 34s 2s/step - loss: 0.1312 - acc: 0.9531 - val_loss: 0.1800 - val_acc: 0.9372\n",
            "Epoch 18/50\n",
            "15/15 [==============================] - 34s 2s/step - loss: 0.1262 - acc: 0.9520 - val_loss: 0.1858 - val_acc: 0.9414\n",
            "Epoch 19/50\n",
            "15/15 [==============================] - 35s 2s/step - loss: 0.1137 - acc: 0.9618 - val_loss: 0.2320 - val_acc: 0.9372\n",
            "Epoch 20/50\n",
            "15/15 [==============================] - 35s 2s/step - loss: 0.1169 - acc: 0.9574 - val_loss: 0.1567 - val_acc: 0.9498\n",
            "Epoch 21/50\n",
            "15/15 [==============================] - 34s 2s/step - loss: 0.1025 - acc: 0.9662 - val_loss: 0.1739 - val_acc: 0.9540\n",
            "Epoch 22/50\n",
            "15/15 [==============================] - 36s 2s/step - loss: 0.1129 - acc: 0.9596 - val_loss: 0.2331 - val_acc: 0.9372\n",
            "Epoch 23/50\n",
            "15/15 [==============================] - 35s 2s/step - loss: 0.1535 - acc: 0.9421 - val_loss: 0.1554 - val_acc: 0.9414\n",
            "Epoch 24/50\n",
            "15/15 [==============================] - 36s 2s/step - loss: 0.1400 - acc: 0.9531 - val_loss: 0.2014 - val_acc: 0.9289\n",
            "Epoch 25/50\n",
            "15/15 [==============================] - 35s 2s/step - loss: 0.1422 - acc: 0.9476 - val_loss: 0.2657 - val_acc: 0.9121\n",
            "Epoch 26/50\n",
            "15/15 [==============================] - 35s 2s/step - loss: 0.1189 - acc: 0.9585 - val_loss: 0.1533 - val_acc: 0.9498\n",
            "Epoch 27/50\n",
            "15/15 [==============================] - 36s 2s/step - loss: 0.0963 - acc: 0.9694 - val_loss: 0.1974 - val_acc: 0.9414\n",
            "Epoch 28/50\n",
            "15/15 [==============================] - 35s 2s/step - loss: 0.0797 - acc: 0.9705 - val_loss: 0.1801 - val_acc: 0.9498\n",
            "Epoch 29/50\n",
            "15/15 [==============================] - 36s 2s/step - loss: 0.1094 - acc: 0.9651 - val_loss: 0.1712 - val_acc: 0.9414\n",
            "Epoch 30/50\n",
            "15/15 [==============================] - 35s 2s/step - loss: 0.0807 - acc: 0.9705 - val_loss: 0.1663 - val_acc: 0.9456\n",
            "Epoch 31/50\n",
            "15/15 [==============================] - 34s 2s/step - loss: 0.0738 - acc: 0.9803 - val_loss: 0.2052 - val_acc: 0.9456\n",
            "Epoch 32/50\n",
            "15/15 [==============================] - 35s 2s/step - loss: 0.0751 - acc: 0.9716 - val_loss: 0.1658 - val_acc: 0.9498\n",
            "Epoch 33/50\n",
            "15/15 [==============================] - 34s 2s/step - loss: 0.0914 - acc: 0.9694 - val_loss: 0.1952 - val_acc: 0.9414\n",
            "Epoch 34/50\n",
            "15/15 [==============================] - 37s 2s/step - loss: 0.0630 - acc: 0.9729 - val_loss: 0.1819 - val_acc: 0.9414\n",
            "Epoch 35/50\n",
            "15/15 [==============================] - 35s 2s/step - loss: 0.0719 - acc: 0.9716 - val_loss: 0.1615 - val_acc: 0.9498\n",
            "Epoch 36/50\n",
            "15/15 [==============================] - 35s 2s/step - loss: 0.0685 - acc: 0.9749 - val_loss: 0.2308 - val_acc: 0.9456\n",
            "Epoch 37/50\n",
            "15/15 [==============================] - 36s 2s/step - loss: 0.0565 - acc: 0.9793 - val_loss: 0.1872 - val_acc: 0.9456\n",
            "Epoch 38/50\n",
            "15/15 [==============================] - 34s 2s/step - loss: 0.0605 - acc: 0.9814 - val_loss: 0.1438 - val_acc: 0.9498\n",
            "Epoch 39/50\n",
            "15/15 [==============================] - 36s 2s/step - loss: 0.0704 - acc: 0.9771 - val_loss: 0.1988 - val_acc: 0.9456\n",
            "Epoch 40/50\n",
            "15/15 [==============================] - 35s 2s/step - loss: 0.0560 - acc: 0.9793 - val_loss: 0.1833 - val_acc: 0.9498\n",
            "Epoch 41/50\n",
            "15/15 [==============================] - 35s 2s/step - loss: 0.0481 - acc: 0.9847 - val_loss: 0.1705 - val_acc: 0.9540\n",
            "Epoch 42/50\n",
            "15/15 [==============================] - 36s 2s/step - loss: 0.0426 - acc: 0.9869 - val_loss: 0.2141 - val_acc: 0.9456\n",
            "Epoch 43/50\n",
            "15/15 [==============================] - 35s 2s/step - loss: 0.0352 - acc: 0.9869 - val_loss: 0.2094 - val_acc: 0.9456\n",
            "Epoch 44/50\n",
            "15/15 [==============================] - 35s 2s/step - loss: 0.0416 - acc: 0.9880 - val_loss: 0.2291 - val_acc: 0.9498\n",
            "Epoch 45/50\n",
            "15/15 [==============================] - 35s 2s/step - loss: 0.0949 - acc: 0.9629 - val_loss: 0.2389 - val_acc: 0.9414\n",
            "Epoch 46/50\n",
            "15/15 [==============================] - 36s 2s/step - loss: 0.0512 - acc: 0.9793 - val_loss: 0.1540 - val_acc: 0.9414\n",
            "Epoch 47/50\n",
            "15/15 [==============================] - 35s 2s/step - loss: 0.0389 - acc: 0.9869 - val_loss: 0.2215 - val_acc: 0.9498\n",
            "Epoch 48/50\n",
            "15/15 [==============================] - 35s 2s/step - loss: 0.0376 - acc: 0.9891 - val_loss: 0.2242 - val_acc: 0.9414\n",
            "Epoch 49/50\n",
            "15/15 [==============================] - 35s 2s/step - loss: 0.0334 - acc: 0.9869 - val_loss: 0.2328 - val_acc: 0.9414\n",
            "Epoch 50/50\n",
            "15/15 [==============================] - 35s 2s/step - loss: 0.0339 - acc: 0.9902 - val_loss: 0.2241 - val_acc: 0.9540\n"
          ],
          "name": "stdout"
        }
      ]
    },
    {
      "cell_type": "code",
      "metadata": {
        "id": "IG3FqNv4wuau",
        "colab_type": "code",
        "colab": {
          "base_uri": "https://localhost:8080/",
          "height": 579
        },
        "outputId": "b307ad6b-f7fe-47a8-acaf-430209333cbc"
      },
      "source": [
        "%matplotlib inline\n",
        "\n",
        "import matplotlib.pyplot as plt\n",
        "\n",
        "accuracy = history.history['acc']\n",
        "val_accuracy = history.history['val_acc']\n",
        "loss = history.history['loss']\n",
        "val_loss = history.history['val_loss']\n",
        "\n",
        "epochs = range(len(accuracy))\n",
        "\n",
        "plt.plot(epochs, accuracy, 'r', label = 'Training accuracy')\n",
        "plt.plot(epochs, val_accuracy, 'b', label = 'Validation accuracy')\n",
        "plt.title('Accuracy plot')\n",
        "\n",
        "plt.legend(loc = 1)\n",
        "plt.figure()\n",
        "plt.show()\n",
        "\n",
        "plt.plot(epochs, loss, 'g', label = 'Training loss')\n",
        "plt.plot(epochs, val_loss, 'o', label = 'Validation loss')\n",
        "plt.title('Loss plot')\n",
        "\n",
        "plt.legend(loc = 1)\n",
        "plt.figure()\n",
        "plt.show()"
      ],
      "execution_count": 9,
      "outputs": [
        {
          "output_type": "display_data",
          "data": {
            "image/png": "[encoded data removed]",
            "text/plain": [
              "<Figure size 432x288 with 1 Axes>"
            ]
          },
          "metadata": {
            "tags": [],
            "needs_background": "light"
          }
        },
        {
          "output_type": "display_data",
          "data": {
            "text/plain": [
              "<Figure size 432x288 with 0 Axes>"
            ]
          },
          "metadata": {
            "tags": []
          }
        },
        {
          "output_type": "display_data",
          "data": {
            "image/png": "[encoded data removed]",
            "text/plain": [
              "<Figure size 432x288 with 1 Axes>"
            ]
          },
          "metadata": {
            "tags": [],
            "needs_background": "light"
          }
        },
        {
          "output_type": "display_data",
          "data": {
            "text/plain": [
              "<Figure size 432x288 with 0 Axes>"
            ]
          },
          "metadata": {
            "tags": []
          }
        }
      ]
    },
    {
      "cell_type": "code",
      "metadata": {
        "id": "zE1TVup48nqE",
        "colab_type": "code",
        "colab": {
          "base_uri": "https://localhost:8080/",
          "height": 35
        },
        "outputId": "1a0aa5b7-192d-47bf-fc13-03adef9f5f89"
      },
      "source": [
        "os.getcwd()"
      ],
      "execution_count": 12,
      "outputs": [
        {
          "output_type": "execute_result",
          "data": {
            "application/vnd.google.colaboratory.intrinsic+json": {
              "type": "string"
            },
            "text/plain": [
              "'/content/drive/My Drive/FireDataset/Datasets 1-2'"
            ]
          },
          "metadata": {
            "tags": []
          },
          "execution_count": 12
        }
      ]
    },
    {
      "cell_type": "code",
      "metadata": {
        "id": "VZ77bpWs8ib9",
        "colab_type": "code",
        "colab": {}
      },
      "source": [
        "os.chdir('/content/')"
      ],
      "execution_count": 14,
      "outputs": []
    },
    {
      "cell_type": "code",
      "metadata": {
        "id": "9Ra_Z6VO8wUs",
        "colab_type": "code",
        "colab": {
          "base_uri": "https://localhost:8080/",
          "height": 35
        },
        "outputId": "1e1fda2c-e6d4-44cb-c4f4-52be5960c4e5"
      },
      "source": [
        "os.getcwd()"
      ],
      "execution_count": 15,
      "outputs": [
        {
          "output_type": "execute_result",
          "data": {
            "application/vnd.google.colaboratory.intrinsic+json": {
              "type": "string"
            },
            "text/plain": [
              "'/content'"
            ]
          },
          "metadata": {
            "tags": []
          },
          "execution_count": 15
        }
      ]
    },
    {
      "cell_type": "code",
      "metadata": {
        "id": "e5jDLYQAwuPx",
        "colab_type": "code",
        "colab": {
          "resources": {
            "http://localhost:8080/nbextensions/google.colab/files.js": {
              "data": "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",
              "ok": true,
              "headers": [
                [
                  "content-type",
                  "application/javascript"
                ]
              ],
              "status": 200,
              "status_text": ""
            }
          },
          "base_uri": "https://localhost:8080/",
          "height": 89
        },
        "outputId": "15064abc-d0d9-4ed7-f294-85a945dfb074"
      },
      "source": [
        "#Applying the prediction on any random image\n",
        "\n",
        "import numpy as np\n",
        "from google.colab import files\n",
        "from keras.preprocessing import image\n",
        "\n",
        "uploaded = files.upload()\n",
        "# print(uploaded.keys())\n",
        "for fn in uploaded.keys():\n",
        "  path = '/content/' + fn\n",
        "  img = image.load_img(path, target_size=(224, 224))\n",
        "  x = image.img_to_array(img)\n",
        "  x = np.expand_dims(x, axis=0) /255\n",
        "  classes = model.predict(x)\n",
        "  print(np.argmax(classes[0])==0, max(classes[0]))  # 0 for a fire detected"
      ],
      "execution_count": 17,
      "outputs": [
        {
          "output_type": "display_data",
          "data": {
            "text/html": [
              "\n",
              "     <input type=\"file\" id=\"files-dee6214d-4181-4e7a-a85c-901ac57a8c9a\" name=\"files[]\" multiple disabled\n",
              "        style=\"border:none\" />\n",
              "     <output id=\"result-dee6214d-4181-4e7a-a85c-901ac57a8c9a\">\n",
              "      Upload widget is only available when the cell has been executed in the\n",
              "      current browser session. Please rerun this cell to enable.\n",
              "      </output>\n",
              "      <script src=\"/nbextensions/google.colab/files.js\"></script> "
            ],
            "text/plain": [
              "<IPython.core.display.HTML object>"
            ]
          },
          "metadata": {
            "tags": []
          }
        },
        {
          "output_type": "stream",
          "text": [
            "Saving 6.jpg to 6.jpg\n",
            "True 0.99799687\n"
          ],
          "name": "stdout"
        }
      ]
    }
  ]
}